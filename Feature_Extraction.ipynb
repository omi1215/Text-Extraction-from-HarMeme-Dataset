{
  "nbformat": 4,
  "nbformat_minor": 0,
  "metadata": {
    "colab": {
      "provenance": [],
      "mount_file_id": "1VByWxJRS_CJrs4RVeUckUH-Ek0dCMZbV",
      "authorship_tag": "ABX9TyOw1hjmuMStg+MTduC6X5o2",
      "include_colab_link": true
    },
    "kernelspec": {
      "name": "python3",
      "display_name": "Python 3"
    },
    "language_info": {
      "name": "python"
    }
  },
  "cells": [
    {
      "cell_type": "markdown",
      "metadata": {
        "id": "view-in-github",
        "colab_type": "text"
      },
      "source": [
        "<a href=\"https://colab.research.google.com/github/omi1215/Text-Extraction-from-HarMeme-Dataset/blob/main/Feature_Extraction.ipynb\" target=\"_parent\"><img src=\"https://colab.research.google.com/assets/colab-badge.svg\" alt=\"Open In Colab\"/></a>"
      ]
    },
    {
      "cell_type": "code",
      "execution_count": 6,
      "metadata": {
        "colab": {
          "base_uri": "https://localhost:8080/"
        },
        "id": "bJzhY-PBntDo",
        "outputId": "20b6f690-05ca-4575-8926-f1cb1908028a"
      },
      "outputs": [
        {
          "output_type": "execute_result",
          "data": {
            "text/plain": [
              "(       image_name                                               text  \\\n",
              " 0  memes_4498.png  Alice\\nGambell\\nWe need a rewind 0 people have...   \n",
              " 1  memes_4877.png  Proof the Republican Party doesn't discriminat...   \n",
              " 2  memes_4394.png  Biden's campaign manager after every\\nlive int...   \n",
              " 3  memes_4672.png  WOODSTOCK\\nT\\nHOME & HARDWARE\\nTRUMP'S WIVES W...   \n",
              " 4  memes_6563.png  Brendan Bergen\\n@carpetislava\\nBIDEN: How come...   \n",
              " \n",
              "                                       processed_text  \n",
              " 0  alice gambell we need a rewind 0 people have b...  \n",
              " 1  proof the republican party doesnt discriminate...  \n",
              " 2  bidens campaign manager after every live inter...  \n",
              " 3  woodstock t home  hardware trumps wives were i...  \n",
              " 4  brendan bergen carpetislava biden how come you...  ,\n",
              "        image_name                                               text  \\\n",
              " 0  memes_4498.png  Alice\\nGambell\\nWe need a rewind 0 people have...   \n",
              " 1  memes_4877.png  Proof the Republican Party doesn't discriminat...   \n",
              " 2  memes_4394.png  Biden's campaign manager after every\\nlive int...   \n",
              " 3  memes_4672.png  WOODSTOCK\\nT\\nHOME & HARDWARE\\nTRUMP'S WIVES W...   \n",
              " 4  memes_6563.png  Brendan Bergen\\n@carpetislava\\nBIDEN: How come...   \n",
              " \n",
              "                                       processed_text  \n",
              " 0  alice gambell we need a rewind 0 people have b...  \n",
              " 1  proof the republican party doesnt discriminate...  \n",
              " 2  bidens campaign manager after every live inter...  \n",
              " 3  woodstock t home  hardware trumps wives were i...  \n",
              " 4  brendan bergen carpetislava biden how come you...  )"
            ]
          },
          "metadata": {},
          "execution_count": 6
        }
      ],
      "source": [
        "import re\n",
        "\n",
        "# Function to preprocess the text\n",
        "def preprocess_text(text):\n",
        "    text = str(text)\n",
        "    text = re.sub(r'\\n', ' ', text)\n",
        "\n",
        "    # Remove extra spaces\n",
        "    text = re.sub(r'\\s+', ' ', text).strip()\n",
        "\n",
        "    # Convert to lowercase\n",
        "    text = text.lower()\n",
        "\n",
        "    # Optionally remove special characters or digits (if necessary)\n",
        "    text = re.sub(r'[^\\w\\s]', '', text)\n",
        "\n",
        "    return text\n",
        "\n",
        "# Preprocess the 'text' column in both datasets\n",
        "covid_df['processed_text'] = covid_df['text'].apply(preprocess_text)\n",
        "us_pol_df['processed_text'] = us_pol_df['text'].apply(preprocess_text)\n",
        "\n",
        "# Check the preprocessed text\n",
        "covid_df.head(), us_pol_df.head()\n"
      ]
    },
    {
      "cell_type": "code",
      "source": [
        "# Define file paths to save the processed data\n",
        "covid_output_path = '/content/drive/MyDrive/covid_processed_texts.csv'\n",
        "us_pol_output_path = '/content/drive/MyDrive/us_pol_processed_texts.csv'\n",
        "\n",
        "# Save the processed DataFrames to CSV files\n",
        "covid_df[['image_name', 'processed_text']].to_csv(covid_output_path, index=False)\n",
        "us_pol_df[['image_name', 'processed_text']].to_csv(us_pol_output_path, index=False)\n",
        "\n",
        "# Confirm the files are saved\n",
        "print(f'CSV for Covid processed texts saved to: {covid_output_path}')\n",
        "print(f'CSV for US Pol processed texts saved to: {us_pol_output_path}')\n"
      ],
      "metadata": {
        "colab": {
          "base_uri": "https://localhost:8080/"
        },
        "id": "5M7BI-IDqUbI",
        "outputId": "0509644c-d299-458f-8c58-f144da7fc7fd"
      },
      "execution_count": 7,
      "outputs": [
        {
          "output_type": "stream",
          "name": "stdout",
          "text": [
            "CSV for Covid processed texts saved to: /content/drive/MyDrive/covid_processed_texts.csv\n",
            "CSV for US Pol processed texts saved to: /content/drive/MyDrive/us_pol_processed_texts.csv\n"
          ]
        }
      ]
    },
    {
      "cell_type": "code",
      "source": [
        "from transformers import DistilBertTokenizer, DistilBertModel\n",
        "from sentence_transformers import SentenceTransformer\n",
        "import torch\n",
        "import pandas as pd\n",
        "\n",
        "# Load the processed CSV files from Google Drive\n",
        "covid_df = pd.read_csv('/content/drive/MyDrive/covid_processed_texts.csv')\n",
        "us_pol_df = pd.read_csv('/content/drive/MyDrive/us_pol_processed_texts.csv')\n",
        "\n",
        "covid_df['processed_text'] = covid_df['processed_text'].fillna('').astype(str)\n",
        "us_pol_df['processed_text'] = us_pol_df['processed_text'].fillna('').astype(str)\n",
        "\n",
        "# Load DistilBERT Model and Tokenizer\n",
        "distilbert_tokenizer = DistilBertTokenizer.from_pretrained('distilbert-base-uncased')\n",
        "distilbert_model = DistilBertModel.from_pretrained('distilbert-base-uncased')\n",
        "\n",
        "# Load SBERT Model\n",
        "sbert_model = SentenceTransformer('all-MiniLM-L6-v2')\n",
        "\n",
        "# Function to extract DistilBERT features\n",
        "def extract_distilbert_features(text):\n",
        "    inputs = distilbert_tokenizer(text, return_tensors='pt', padding=True, truncation=True)\n",
        "    with torch.no_grad():\n",
        "        outputs = distilbert_model(**inputs)\n",
        "    return outputs.last_hidden_state.mean(dim=1).squeeze().numpy()\n",
        "\n",
        "# Function to extract SBERT features\n",
        "def extract_sbert_features(text):\n",
        "    return sbert_model.encode(text)\n",
        "\n",
        "# Extract features for both datasets\n",
        "covid_df['distilbert_features'] = covid_df['processed_text'].apply(extract_distilbert_features)\n",
        "covid_df['sbert_features'] = covid_df['processed_text'].apply(extract_sbert_features)\n",
        "\n",
        "us_pol_df['distilbert_features'] = us_pol_df['processed_text'].apply(extract_distilbert_features)\n",
        "us_pol_df['sbert_features'] = us_pol_df['processed_text'].apply(extract_sbert_features)\n",
        "\n",
        "# Check the features\n",
        "covid_df.head(), us_pol_df.head()\n"
      ],
      "metadata": {
        "colab": {
          "base_uri": "https://localhost:8080/"
        },
        "id": "HzJ3aw7Eq1HL",
        "outputId": "d7e708a4-5c56-4265-9ab5-ec0d4d36b46a"
      },
      "execution_count": 2,
      "outputs": [
        {
          "output_type": "execute_result",
          "data": {
            "text/plain": [
              "(       image_name                                     processed_text  \\\n",
              " 0  memes_4498.png  alice gambell we need a rewind 0 people have b...   \n",
              " 1  memes_4877.png  proof the republican party doesnt discriminate...   \n",
              " 2  memes_4394.png  bidens campaign manager after every live inter...   \n",
              " 3  memes_4672.png  woodstock t home  hardware trumps wives were i...   \n",
              " 4  memes_6563.png  brendan bergen carpetislava biden how come you...   \n",
              " \n",
              "                                  distilbert_features  \\\n",
              " 0  [0.108546644, -0.14112994, 0.42620727, 0.05014...   \n",
              " 1  [-0.07914518, 0.10318212, 0.087846756, 0.19117...   \n",
              " 2  [0.031965554, -0.2188791, 0.23486552, 0.027350...   \n",
              " 3  [0.16556902, 0.28730798, 0.32006925, -0.003805...   \n",
              " 4  [0.19949307, -0.009880979, 0.04618714, -0.0006...   \n",
              " \n",
              "                                       sbert_features  \n",
              " 0  [-0.020168282, -0.008652444, 0.0170774, 0.0095...  \n",
              " 1  [-0.047294147, 0.014942359, 0.027965542, 0.003...  \n",
              " 2  [-0.06936304, -0.006860266, 0.09252098, -0.002...  \n",
              " 3  [-0.0023403072, -0.012850804, 0.026102323, -0....  \n",
              " 4  [-0.02106438, 0.049649537, 0.113451704, -0.000...  ,\n",
              "        image_name                                     processed_text  \\\n",
              " 0  memes_4498.png  alice gambell we need a rewind 0 people have b...   \n",
              " 1  memes_4877.png  proof the republican party doesnt discriminate...   \n",
              " 2  memes_4394.png  bidens campaign manager after every live inter...   \n",
              " 3  memes_4672.png  woodstock t home  hardware trumps wives were i...   \n",
              " 4  memes_6563.png  brendan bergen carpetislava biden how come you...   \n",
              " \n",
              "                                  distilbert_features  \\\n",
              " 0  [0.108546644, -0.14112994, 0.42620727, 0.05014...   \n",
              " 1  [-0.07914518, 0.10318212, 0.087846756, 0.19117...   \n",
              " 2  [0.031965554, -0.2188791, 0.23486552, 0.027350...   \n",
              " 3  [0.16556902, 0.28730798, 0.32006925, -0.003805...   \n",
              " 4  [0.19949307, -0.009880979, 0.04618714, -0.0006...   \n",
              " \n",
              "                                       sbert_features  \n",
              " 0  [-0.020168282, -0.008652444, 0.0170774, 0.0095...  \n",
              " 1  [-0.047294147, 0.014942359, 0.027965542, 0.003...  \n",
              " 2  [-0.06936304, -0.006860266, 0.09252098, -0.002...  \n",
              " 3  [-0.0023403072, -0.012850804, 0.026102323, -0....  \n",
              " 4  [-0.02106438, 0.049649537, 0.113451704, -0.000...  )"
            ]
          },
          "metadata": {},
          "execution_count": 2
        }
      ]
    },
    {
      "cell_type": "code",
      "source": [
        "# Save the extracted features to separate CSV files\n",
        "covid_df[['image_name', 'distilbert_features']].to_csv('/content/drive/MyDrive/covid_distilbert_features.csv', index=False)\n",
        "covid_df[['image_name', 'sbert_features']].to_csv('/content/drive/MyDrive/covid_sbert_features.csv', index=False)\n",
        "\n",
        "us_pol_df[['image_name', 'distilbert_features']].to_csv('/content/drive/MyDrive/us_pol_distilbert_features.csv', index=False)\n",
        "us_pol_df[['image_name', 'sbert_features']].to_csv('/content/drive/MyDrive/us_pol_sbert_features.csv', index=False)\n",
        "\n",
        "# Confirming the files are saved\n",
        "'/content/drive/MyDrive/covid_distilbert_features.csv', '/content/drive/MyDrive/covid_sbert_features.csv', '/content/drive/MyDrive/us_pol_distilbert_features.csv', '/content/drive/MyDrive/us_pol_sbert_features.csv'"
      ],
      "metadata": {
        "colab": {
          "base_uri": "https://localhost:8080/"
        },
        "id": "Hs4JAxVgwLiI",
        "outputId": "63f03f89-cb72-42bc-ea9b-5c9ffc2bc4b7"
      },
      "execution_count": 3,
      "outputs": [
        {
          "output_type": "execute_result",
          "data": {
            "text/plain": [
              "('/content/drive/MyDrive/covid_distilbert_features.csv',\n",
              " '/content/drive/MyDrive/covid_sbert_features.csv',\n",
              " '/content/drive/MyDrive/us_pol_distilbert_features.csv',\n",
              " '/content/drive/MyDrive/us_pol_sbert_features.csv')"
            ]
          },
          "metadata": {},
          "execution_count": 3
        }
      ]
    },
    {
      "cell_type": "code",
      "source": [
        "import torch\n",
        "from torchvision import models, transforms\n",
        "from PIL import Image\n",
        "import os\n",
        "import pandas as pd\n",
        "\n",
        "# Define image transformation (resizing, normalization for pretrained models)\n",
        "transform = transforms.Compose([\n",
        "    transforms.Resize((224, 224)),\n",
        "    transforms.ToTensor(),\n",
        "    transforms.Normalize(mean=[0.485, 0.456, 0.406], std=[0.229, 0.224, 0.225]),\n",
        "])\n",
        "\n",
        "# Load pretrained models (ResNet-152 and VGG19)\n",
        "resnet_model = models.resnet152(pretrained=True)\n",
        "vgg19_model = models.vgg19(pretrained=True)\n",
        "\n",
        "# Set the models to evaluation mode\n",
        "resnet_model.eval()\n",
        "vgg19_model.eval()\n",
        "\n",
        "# Function to extract image features from ResNet-152\n",
        "def extract_resnet_features(image_path):\n",
        "    image = Image.open(image_path).convert(\"RGB\")\n",
        "    image = transform(image).unsqueeze(0)  # Add batch dimension\n",
        "    with torch.no_grad():\n",
        "        features = resnet_model(image)\n",
        "    return features.squeeze().numpy()  # Remove batch dimension and convert to numpy\n",
        "\n",
        "# Function to extract image features from VGG19\n",
        "def extract_vgg19_features(image_path):\n",
        "    image = Image.open(image_path).convert(\"RGB\")\n",
        "    image = transform(image).unsqueeze(0)  # Add batch dimension\n",
        "    with torch.no_grad():\n",
        "        features = vgg19_model.features(image)\n",
        "        features = features.view(features.size(0), -1)  # Flatten the features\n",
        "    return features.squeeze().numpy()  # Remove batch dimension and convert to numpy\n",
        "\n",
        "# Function to process image folder and extract features\n",
        "def process_image_folder(image_folder, model_type=\"resnet\"):\n",
        "    features_list = []\n",
        "    for image_name in os.listdir(image_folder):\n",
        "        image_path = os.path.join(image_folder, image_name)\n",
        "        if image_path.endswith('.png') or image_path.endswith('.jpg'):\n",
        "            if model_type == \"resnet\":\n",
        "                features = extract_resnet_features(image_path)\n",
        "            elif model_type == \"vgg19\":\n",
        "                features = extract_vgg19_features(image_path)\n",
        "            features_list.append((image_name, features))\n",
        "    return features_list\n",
        "\n",
        "# Paths to the image folders\n",
        "covid_image_folder = '/content/drive/MyDrive/HarMeme_Images/HarMeme_Images/harmeme_images_covid_19'\n",
        "us_pol_image_folder = '/content/drive/MyDrive/HarMeme_Images/HarMeme_Images/harmeme_images_us_pol'\n",
        "\n",
        "# Extract ResNet-152 and VGG19 features for both folders\n",
        "covid_resnet_features = process_image_folder(covid_image_folder, model_type=\"resnet\")\n",
        "covid_vgg19_features = process_image_folder(covid_image_folder, model_type=\"vgg19\")\n",
        "\n",
        "us_pol_resnet_features = process_image_folder(us_pol_image_folder, model_type=\"resnet\")\n",
        "us_pol_vgg19_features = process_image_folder(us_pol_image_folder, model_type=\"vgg19\")\n",
        "\n",
        "# Convert extracted features into DataFrames\n",
        "covid_resnet_df = pd.DataFrame(covid_resnet_features, columns=['image_name', 'resnet_features'])\n",
        "covid_vgg19_df = pd.DataFrame(covid_vgg19_features, columns=['image_name', 'vgg19_features'])\n",
        "\n",
        "us_pol_resnet_df = pd.DataFrame(us_pol_resnet_features, columns=['image_name', 'resnet_features'])\n",
        "us_pol_vgg19_df = pd.DataFrame(us_pol_vgg19_features, columns=['image_name', 'vgg19_features'])\n",
        "\n",
        "# Save the extracted features to CSV files\n",
        "covid_resnet_df.to_csv('/content/drive/MyDrive/covid_resnet_features.csv', index=False)\n",
        "covid_vgg19_df.to_csv('/content/drive/MyDrive/covid_vgg19_features.csv', index=False)\n",
        "\n",
        "us_pol_resnet_df.to_csv('/content/drive/MyDrive/us_pol_resnet_features.csv', index=False)\n",
        "us_pol_vgg19_df.to_csv('/content/drive/MyDrive/us_pol_vgg19_features.csv', index=False)\n",
        "\n",
        "# Return file paths to confirm\n",
        "'/content/drive/MyDrive/covid_resnet_features.csv', '/content/drive/MyDrive/covid_vgg19_features.csv', '/content/drive/MyDrive/us_pol_resnet_features.csv', '/content/drive/MyDrive/us_pol_vgg19_features.csv'\n"
      ],
      "metadata": {
        "colab": {
          "base_uri": "https://localhost:8080/"
        },
        "id": "veGkrrDlyCah",
        "outputId": "9c3f3b5e-9c94-4a5d-ed08-3c82a629bf29"
      },
      "execution_count": null,
      "outputs": [
        {
          "metadata": {
            "tags": null
          },
          "name": "stderr",
          "output_type": "stream",
          "text": [
            "/usr/local/lib/python3.10/dist-packages/torchvision/models/_utils.py:208: UserWarning: The parameter 'pretrained' is deprecated since 0.13 and may be removed in the future, please use 'weights' instead.\n",
            "  warnings.warn(\n",
            "/usr/local/lib/python3.10/dist-packages/torchvision/models/_utils.py:223: UserWarning: Arguments other than a weight enum or `None` for 'weights' are deprecated since 0.13 and may be removed in the future. The current behavior is equivalent to passing `weights=ResNet152_Weights.IMAGENET1K_V1`. You can also use `weights=ResNet152_Weights.DEFAULT` to get the most up-to-date weights.\n",
            "  warnings.warn(msg)\n",
            "Downloading: \"https://download.pytorch.org/models/resnet152-394f9c45.pth\" to /root/.cache/torch/hub/checkpoints/resnet152-394f9c45.pth\n",
            "100%|██████████| 230M/230M [00:01<00:00, 180MB/s]\n",
            "/usr/local/lib/python3.10/dist-packages/torchvision/models/_utils.py:223: UserWarning: Arguments other than a weight enum or `None` for 'weights' are deprecated since 0.13 and may be removed in the future. The current behavior is equivalent to passing `weights=VGG19_Weights.IMAGENET1K_V1`. You can also use `weights=VGG19_Weights.DEFAULT` to get the most up-to-date weights.\n",
            "  warnings.warn(msg)\n",
            "Downloading: \"https://download.pytorch.org/models/vgg19-dcbb9e9d.pth\" to /root/.cache/torch/hub/checkpoints/vgg19-dcbb9e9d.pth\n",
            "100%|██████████| 548M/548M [00:03<00:00, 152MB/s]\n"
          ]
        }
      ]
    }
  ]
}